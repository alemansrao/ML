{
 "cells": [
  {
   "cell_type": "code",
   "execution_count": 21,
   "metadata": {},
   "outputs": [
    {
     "name": "stdout",
     "output_type": "stream",
     "text": [
      "10m:31s is valid format\n"
     ]
    }
   ],
   "source": [
    "invalid=True\n",
    "while(invalid):\n",
    "    duration = list(map(int,input(\"Enter in mm:ss format\").split(\":\")))\n",
    "    # duration\n",
    "    if(0 <= duration[0] < 60 and 0 <= duration[1] < 60):\n",
    "        print(\"{}m:{}s is valid format\".format(duration[0],duration[1]))\n",
    "        invalid=False\n",
    "    else:\n",
    "        print(\"{}m:{}s is invalid format\".format(duration[0],duration[1]))\n"
   ]
  },
  {
   "cell_type": "code",
   "execution_count": 34,
   "metadata": {},
   "outputs": [],
   "source": [
    "def showApproxTime(duration):\n",
    "    if(duration[1] > 30):\n",
    "        return str(duration[0]+1)+\"m\"\n",
    "    return duration[0]+\"m\"\n"
   ]
  },
  {
   "cell_type": "code",
   "execution_count": 35,
   "metadata": {},
   "outputs": [
    {
     "data": {
      "text/plain": [
       "'11m'"
      ]
     },
     "execution_count": 35,
     "metadata": {},
     "output_type": "execute_result"
    }
   ],
   "source": [
    "showApproxTime(duration)"
   ]
  },
  {
   "cell_type": "code",
   "execution_count": 36,
   "metadata": {},
   "outputs": [],
   "source": [
    "#----------------------------------------------------------------------------------------"
   ]
  },
  {
   "cell_type": "code",
   "execution_count": 2,
   "metadata": {},
   "outputs": [],
   "source": [
    "import cv2\n",
    "img = cv2.imread(\"dog.jpg\",0) #1 -> Grey"
   ]
  },
  {
   "cell_type": "code",
   "execution_count": null,
   "metadata": {},
   "outputs": [],
   "source": [
    "cv2.imshow(\"Dog\",img)\n",
    "cv2.waitKey(0)"
   ]
  },
  {
   "cell_type": "code",
   "execution_count": 3,
   "metadata": {},
   "outputs": [
    {
     "data": {
      "text/plain": [
       "130"
      ]
     },
     "execution_count": 3,
     "metadata": {},
     "output_type": "execute_result"
    }
   ],
   "source": [
    "pixelValue = img[100,100]\n",
    "pixelValue"
   ]
  },
  {
   "cell_type": "code",
   "execution_count": 31,
   "metadata": {},
   "outputs": [
    {
     "name": "stdout",
     "output_type": "stream",
     "text": [
      "Height : 480\n",
      "Width : 640\n",
      "\n"
     ]
    }
   ],
   "source": [
    "height = img.shape[0]\n",
    "width = img.shape[1]\n",
    "# channel = img.shape[2]\n",
    "scale =20\n",
    "print(\"Height : {}\\nWidth : {}\\n\".format(height,width))\n",
    "newWidth = int(img.shape[1] * scale / 100)  \n",
    "newHeight = int(img.shape[0] * scale / 100)  \n",
    "dim = (newWidth,newHeight)"
   ]
  },
  {
   "cell_type": "code",
   "execution_count": 32,
   "metadata": {},
   "outputs": [
    {
     "name": "stdout",
     "output_type": "stream",
     "text": [
      "Resized Dimensions :  (96, 128)\n"
     ]
    }
   ],
   "source": [
    "resized = cv2.resize(img,dim, interpolation=cv2.INTER_AREA)  \n",
    "  \n",
    "print('Resized Dimensions : ', resized.shape)  \n",
    "  \n",
    "cv2.imshow(\"Resized image\", resized)  \n",
    "cv2.waitKey(0)  \n",
    "cv2.destroyAllWindows()  "
   ]
  },
  {
   "cell_type": "code",
   "execution_count": null,
   "metadata": {},
   "outputs": [],
   "source": []
  },
  {
   "cell_type": "code",
   "execution_count": null,
   "metadata": {},
   "outputs": [],
   "source": []
  }
 ],
 "metadata": {
  "kernelspec": {
   "display_name": "Python 3",
   "language": "python",
   "name": "python3"
  },
  "language_info": {
   "codemirror_mode": {
    "name": "ipython",
    "version": 3
   },
   "file_extension": ".py",
   "mimetype": "text/x-python",
   "name": "python",
   "nbconvert_exporter": "python",
   "pygments_lexer": "ipython3",
   "version": "3.9.10"
  },
  "orig_nbformat": 4
 },
 "nbformat": 4,
 "nbformat_minor": 2
}
